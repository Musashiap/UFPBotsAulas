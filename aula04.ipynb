{
 "cells": [
  {
   "cell_type": "markdown",
   "metadata": {},
   "source": [
    "# Aula 4: Blur, Canny e Delineação"
   ]
  },
  {
   "cell_type": "markdown",
   "metadata": {},
   "source": [
    "Nesta aula vamos aprender a filtrar, suavizar, definir limites e bordas e delinear imagens, através das funções .blur, .canny e as funções contours\n",
    "     \n",
    "## 4.1 - Função .blur\n",
    "\n",
    "Essas funções são úteis quando utilizadas para filtrar uma certa imagem, são usados quatro processos, que dependem da imagem a ser filtrada:\n",
    "\n",
    "1)Retirando a Media Aritmética(.blur) dos pixels ao redor de uma certa região e substituindo o pixel central pelo valor dessa média, dada como parâmetro da função(tamanho da região);\n",
    "    \n",
    "2)Através da Média Gaussiana(.GaussianBlur), também conhecida como distribuição normal;\n",
    "    \n",
    "3)Através do valor mediano(.medianBlur), onde os valores dos pixels ao redor de uma certa região são colocados num rol, e o valor mediano é retirado, o pixel central da região é então substituído pelo valor da mediana. Essa função é particularmente efetiva quando usada para filtrar ruídos do tipo Sal e Pimenta;\n",
    "    \n",
    "4)A Filtragem Bilateral(.bilateralFilter) é similar a Média Gaussiana, essa função toma os valores dos pixels numa região, tomando cuidado para pegar apenas valores que são aproximados do valor do pixel central.\n",
    "\n",
    "Parâmetros: .blur(imagem fonte, tamanho da região)\n",
    "            .GaussianBlur(imagem fonte, tamanho da região, SigmaX, SigmaY)\n",
    "            .medianBlur(imagem fonte, tamanho da região)\n",
    "            .bilateralFilter(imagem fonte, diêmetro da região, SigmaColor, SigmaSpace)\n",
    "\n",
    "Obs: Quando o valor de SigmaColor for muito grande, os pixels mais distantes dentro da região vão ser misturados, resultando numa filtragem fraca.\n",
    "     Quando o valor de SigmaSpace for muito grande, os pixels mais distantes dentro da região serão confundidos se suas cores forem próximas, resultando numa filtragem fraca.\n",
    "     Portanto, é necessário achar um valor de SigmaColor e SigmaSpace apropriado pro tipo de imagem a ser filtrada."
   ]
  },
  {
   "cell_type": "code",
   "execution_count": 5,
   "metadata": {},
   "outputs": [],
   "source": [
    "import cv2\n",
    "def dw():\n",
    "    cv2.waitKey(0)\n",
    "    cv2.destroyAllWindows()\n",
    "        \n",
    "        \n",
    "        \n",
    "img = cv2.imread('baboon.bmp')\n",
    "\n",
    "blur = cv2.blur(img,(5,5))\n",
    "gaussian_blur = cv2.GaussianBlur(img,(5,5),0)\n",
    "median_blur = cv2.medianBlur(img,5)\n",
    "bilateral_blur = cv2.bilateralFilter(img,9,75,75)\n",
    "\n",
    "cv2.imshow('Borrado', blur)\n",
    "cv2.imshow('Original', img)\n",
    "cv2.imshow('Borrado Gaussiano', gaussian_blur)\n",
    "cv2.imshow('Borrado Mediano', median_blur)\n",
    "cv2.imshow('Borrado Bilateral', bilateral_blur)\n",
    "dw()\n",
    "\n"
   ]
  },
  {
   "cell_type": "markdown",
   "metadata": {},
   "source": [
    "## 4.2 - Função .canny\n",
    "\n",
    "A Função .canny é usada para definir bordas de uma imagem, como as bordas de uma imagem são suscetíveis a ruídos na imagem, pode ser necessário passar a imagem por um dos filtros já vistos. Todos os pixels da imagem são analisados e definidos se são bordas ou não, através de um processo de conexão entre os pixels. \n",
    "  \n",
    " "
   ]
  },
  {
   "cell_type": "code",
   "execution_count": 6,
   "metadata": {},
   "outputs": [],
   "source": [
    "\n",
    "img = cv2.imread('lena512.bmp',0)\n",
    "#gaussian_blur = cv2.GaussianBlur(img,(5,5),0)\n",
    "edges = cv2.Canny(img,100,200)\n",
    "\n",
    "cv2.imshow('Original',img)\n",
    "cv2.imshow('Bordas',edges)\n",
    "dw()"
   ]
  },
  {
   "cell_type": "markdown",
   "metadata": {},
   "source": [
    "Parâmetros: .canny(imagem fonte, limite 1, limite 2)"
   ]
  },
  {
   "cell_type": "markdown",
   "metadata": {},
   "source": [
    "## 4.3 - Delimitação das bordas de uma imagem\n",
    "\n",
    "Podemos delimitar as bordas(ou contorno) de uma imagem através de um processo envolvendo as funções .findContours e .drawContours, além de algumas funções vistas até agora. \n",
    "    \n",
    "Para encontrar os contornos, primeiro utilizamos .findContours, que obrigatoriamente precisa de duas variaveis: contours e hierarquia. Contours é a definição, de fato, dos contornos da imagem, e hierarquia determina quais contornos terão prioridade sobre outros.\n",
    "    \n",
    "Para desenhar os contornos, usamos a função .drawContours.\n",
    "    \n",
    "Parâmetros: .findContours(imagem de contornos, modo de retirada dos contornos, modo de aproximação dos contornos)\n",
    "            .drawContours(imagem de contornos, contornos encontrados com .findContours, qual contorno mostrar, cor das bordas dos contornos, largura da linha)"
   ]
  },
  {
   "cell_type": "code",
   "execution_count": 7,
   "metadata": {},
   "outputs": [],
   "source": [
    "\n",
    "img = cv2.imread('barbara.bmp')\n",
    "blur = cv2.blur(img,(5,5))\n",
    "imgray = cv2.cvtColor(blur,cv2.COLOR_BGR2GRAY)\n",
    "ret,threshold = cv2.threshold(imgray,127,255,0)\n",
    "\n",
    "contours,hier= cv2.findContours(threshold,cv2.RETR_TREE,cv2.CHAIN_APPROX_SIMPLE)\n",
    "#print len(contours)\n",
    "\n",
    "cv2.drawContours(img, contours, -1, (0,0,0), 3)\n",
    "\n",
    "\n",
    "cv2.imshow('Contornos',img)\n",
    "dw()"
   ]
  },
  {
   "cell_type": "markdown",
   "metadata": {},
   "source": [
    "Acima, a linha \"print len(contours)\" imprime na tela o tamanho da matriz de contornos, isto é, quantos contornos a função .findContours foi capaz de encontrar na imagem dada a suavização feita pelo blur. Este valor pode ser mudado, mudando o fator de suavização de .blur e serve de parâmetro para uma boa suavização da imagem: uma imagem pobremente suavizada contém centenas de contornos enquanto uma imagem bem suavizada contém apenas os contornos reais."
   ]
  }
 ],
 "metadata": {
  "kernelspec": {
   "display_name": "Python 3",
   "language": "python",
   "name": "python3"
  },
  "language_info": {
   "codemirror_mode": {
    "name": "ipython",
    "version": 3
   },
   "file_extension": ".py",
   "mimetype": "text/x-python",
   "name": "python",
   "nbconvert_exporter": "python",
   "pygments_lexer": "ipython3",
   "version": "3.6.8"
  }
 },
 "nbformat": 4,
 "nbformat_minor": 2
}

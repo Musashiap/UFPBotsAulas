{
 "cells": [
  {
   "cell_type": "markdown",
   "metadata": {},
   "source": [
    "# AULA 5"
   ]
  },
  {
   "cell_type": "markdown",
   "metadata": {},
   "source": [
    "Nessa aula iremos aprender a como introduzir um vídeo e como utilizar câmeras para captura de imagem ao vivo. Além disso iremos começar a discutir sobre como fazer reconhecimento facial usando um path chamado haarcascade."
   ]
  },
  {
   "cell_type": "markdown",
   "metadata": {},
   "source": [
    "vamos ver o código e discutir cada linha dele\n",
    "código:"
   ]
  },
  {
   "cell_type": "code",
   "execution_count": 1,
   "metadata": {},
   "outputs": [
    {
     "name": "stdout",
     "output_type": "stream",
     "text": [
      "o video terminou\n"
     ]
    }
   ],
   "source": [
    "import numpy as np\n",
    "import cv2\n",
    "\n",
    "cap = cv2.VideoCapture(\"video_exemplo.mp4\")\n",
    "try:\n",
    "    while(True):\n",
    "        ret, frame = cap.read()\n",
    "        cv2.imshow('frame',frame)\n",
    "        if cv2.waitKey(1) & 0xFF == ord('q'):\n",
    "            break\n",
    "    cap.release()\n",
    "    cv2.destroyAllWindows()\n",
    "except:\n",
    "    cap.release()\n",
    "    cv2.destroyAllWindows()\n",
    "    print(\"o video terminou\")\n",
    "    "
   ]
  },
  {
   "cell_type": "markdown",
   "metadata": {},
   "source": [
    "A primeira coisa que temos que fazer, é definir uma variável para a captura. Após isso iremos, com a função cv2.VideoCapture(), abrir o vídeo, se botarmos 0 como parâmetro, ele vai abrir a câmera disponivel, caso queira abrir um vídeo específico, deve-se colocar o diretório do vídeo no parâmetro. Caso você queira abrir outra câmera, basta localizar essa no parâmetro. "
   ]
  },
  {
   "cell_type": "markdown",
   "metadata": {},
   "source": [
    "Logo após essa declaração de variável, temos uma repetição, que serve para deixar a câmera aberta por o tempo que o usuário determina. "
   ]
  },
  {
   "cell_type": "code",
   "execution_count": null,
   "metadata": {},
   "outputs": [],
   "source": [
    "ret, frame = cap.read()\n",
    "cv2.imshow('frame',frame)"
   ]
  },
  {
   "cell_type": "markdown",
   "metadata": {},
   "source": [
    "Nessa parte do código temos a função de leitura da câmera ou vídeo, onde devemos atribuir uma variável. Logo após temos a mesma função usada muitas vezes no curso (cv2.imshow), perceba que ele não utiliza a var. determinada para a captura (cap), já que para mostrar a captura é necessário mostrar frame por frame e precisamos mostrar a leitura dos frames, não a captura."
   ]
  },
  {
   "cell_type": "code",
   "execution_count": null,
   "metadata": {},
   "outputs": [],
   "source": [
    "if cv2.waitKey(1) & 0xFF == ord('q'):\n",
    "        break"
   ]
  },
  {
   "cell_type": "markdown",
   "metadata": {},
   "source": [
    "Agora colocamos a condição de parada do loop (while), que só vai parar ao digitarmos a tecla de comando, no nosso caso, o 'q'."
   ]
  },
  {
   "cell_type": "markdown",
   "metadata": {},
   "source": [
    "Depois disso temos que terminar a captura (cap.release()) e fechar as janelas abertas, onde usaremos, também a função já conhecida, cv2.destroyallwindows."
   ]
  },
  {
   "cell_type": "markdown",
   "metadata": {},
   "source": [
    "A partir disso, temos uma gama de opções de manipulação dessas capturas, faremos um exemplo onde transformaremos a imagem capturada em tons de cinza. O código é bem parecido com o ensinado anteriormente, só adicionaremos uma nova função."
   ]
  },
  {
   "cell_type": "code",
   "execution_count": 2,
   "metadata": {},
   "outputs": [
    {
     "name": "stdout",
     "output_type": "stream",
     "text": [
      "o video terminou\n"
     ]
    }
   ],
   "source": [
    "\n",
    "cap = cv2.VideoCapture(\"video_exemplo.mp4\")\n",
    "try:\n",
    "    while(True):\n",
    "        existeframe, frame = cap.read()\n",
    "        gray = cv2.cvtColor(frame, cv2.COLOR_BGR2GRAY)\n",
    "\n",
    "        cv2.imshow(\"frame\",gray)\n",
    "        if (cv2.waitKey(1) & 0xFF == ord(\"q\")):\n",
    "            break\n",
    "    cap.release()\n",
    "    cv2.destroyAllWindows()\n",
    "except:\n",
    "    cap.release()\n",
    "    cv2.destroyAllWindows()\n",
    "    print(\"o video terminou\")\n",
    "    "
   ]
  },
  {
   "cell_type": "markdown",
   "metadata": {},
   "source": [
    "Onde a função cv2.cvtColor serve para converter os canais de cores, e o parâmetro cv2.COLOR_BGR2GRAY, que muda os canais de cores, para tons de cinza."
   ]
  },
  {
   "cell_type": "markdown",
   "metadata": {},
   "source": [
    "a partir disso tente, como atividade, aplicar os conceitos de limiarização e funções já ensinadas no curso, junto com esse novo modo de captura, destacando as areas brancas do vídeo."
   ]
  },
  {
   "cell_type": "markdown",
   "metadata": {},
   "source": [
    "#### Detecção de Imagens"
   ]
  },
  {
   "cell_type": "markdown",
   "metadata": {},
   "source": [
    "Para começarmos  a entender como funciona essa detecção, vamos pensar numa seguinte suposição. Imagine que você conhece alguem totalmente sem memória e que precisa reaprender o significado das coisas, como mostrar o que é um humano para essa pessoa? como evitar que ela se confunda?"
   ]
  },
  {
   "cell_type": "markdown",
   "metadata": {},
   "source": [
    "A resposta é: temos que mostra inumeras fotos e exemplos do que é um ser humano e para não existir confusões, devemos mostrar, também, o que não é um ser humano, inúmeras vezes.  "
   ]
  },
  {
   "cell_type": "markdown",
   "metadata": {},
   "source": [
    "Para o computador, nós operamos da mesma forma, e a partir disso existem padrões que são verificados para diferenciar as imagens e detectar. esses padroẽs são diferenças de pixels de branco para preto como por exemplo, para o rosto humano: "
   ]
  },
  {
   "cell_type": "code",
   "execution_count": 1,
   "metadata": {},
   "outputs": [
    {
     "data": {
      "image/jpeg": "[encoded data removed]",
      "text/plain": [
       "<IPython.core.display.Image object>"
      ]
     },
     "execution_count": 1,
     "metadata": {},
     "output_type": "execute_result"
    }
   ],
   "source": [
    "from IPython.display import Image\n",
    "Image(filename='face.jpg')"
   ]
  },
  {
   "cell_type": "markdown",
   "metadata": {},
   "source": [
    "Percebendo esses padrões o computador diferencia o que é humano do que não é, mas teoricamente, para ensinarmos isso para ele precisariamos dessas inumeras fotos. Para poupar nosso tempo, existe um path para o opencv chamado de haarcacade que já possui varios desses padrões para ser utilizados, veremos as aplicações desse path, além de exercicios de detecção facial, na próxima aula."
   ]
  },
  {
   "cell_type": "code",
   "execution_count": null,
   "metadata": {},
   "outputs": [],
   "source": []
  }
 ],
 "metadata": {
  "kernelspec": {
   "display_name": "Python 3",
   "language": "python",
   "name": "python3"
  },
  "language_info": {
   "codemirror_mode": {
    "name": "ipython",
    "version": 3
   },
   "file_extension": ".py",
   "mimetype": "text/x-python",
   "name": "python",
   "nbconvert_exporter": "python",
   "pygments_lexer": "ipython3",
   "version": "3.6.8"
  }
 },
 "nbformat": 4,
 "nbformat_minor": 2
}

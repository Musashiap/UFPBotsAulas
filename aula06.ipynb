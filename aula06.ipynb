{
 "cells": [
  {
   "cell_type": "markdown",
   "metadata": {},
   "source": [
    "# Aula 6: Detector de imagens"
   ]
  },
  {
   "cell_type": "markdown",
   "metadata": {},
   "source": [
    "Nesta aula usaremos os paths do haarcascade para, através de um processo de machine learning, reconhecer faces na imagens. A função cascade contém centenas de imagens reais de pessoas e objetos em vários ângulos, o que permite a máquina reconhecer padrões nas imagens e determinar, com um bom grau de certeza, o que é olho, boca, entre outras coisas, nas imagens.\n",
    "    \n",
    "## 6.1 - Detectando faces e olhos em imagens.\n",
    "        \n",
    "Neste código simples, usado o acervo de faces e olhos do haarcascade, implementamos um código capaz de reconhecer olhos e faces."
   ]
  },
  {
   "cell_type": "code",
   "execution_count": 3,
   "metadata": {},
   "outputs": [],
   "source": [
    "import numpy as np\n",
    "import cv2\n",
    "\n",
    "face_cascade = cv2.CascadeClassifier('data/haarcascade_frontalface_default.xml')\n",
    "eye_cascade = cv2.CascadeClassifier('data/haarcascade_eye.xml')\n",
    "\n",
    "img = cv2.imread('lena.bmp')\n",
    "gray = cv2.cvtColor(img, cv2.COLOR_BGR2GRAY)\n",
    "\n",
    "faces = face_cascade.detectMultiScale(gray, 1.3, 5)\n",
    "\n",
    "for (x,y,w,h) in faces:\n",
    "    cv2.rectangle(img,(x,y),(x+w,y+h),(255,0,0),2)\n",
    "    roi_gray = gray[y:y+h, x:x+w]\n",
    "    roi_color = img[y:y+h, x:x+w]\n",
    "    eyes = eye_cascade.detectMultiScale(roi_gray)\n",
    "    for (ex,ey,ew,eh) in eyes:\n",
    "        cv2.rectangle(roi_color,(ex,ey),(ex+ew,ey+eh),(0,255,0),2)\n",
    "\n",
    "cv2.imshow('Imagem',img)\n",
    "\n",
    "cv2.waitKey(0)\n",
    "cv2.destroyAllWindows()\n"
   ]
  },
  {
   "cell_type": "markdown",
   "metadata": {},
   "source": [
    "Parâmetros: .detectMultiScale(imagem fonte em tom de cinza,fator de escala, tamanho da vizinhança)"
   ]
  },
  {
   "cell_type": "markdown",
   "metadata": {},
   "source": [
    "## 6.2 -  Detectando faces e olhos em video.\n",
    "    \n",
    "Nesta parte, faremos o mesmo que o ponto 6.1, exceto que a detecção é feita em tempo real, por vídeo."
   ]
  },
  {
   "cell_type": "code",
   "execution_count": 5,
   "metadata": {},
   "outputs": [],
   "source": [
    "face_cascade = cv2.CascadeClassifier('data/haarcascade_frontalface_default.xml')\n",
    "eyes_cascade = cv2.CascadeClassifier('data/haarcascade_eye.xml')\n",
    "\n",
    "def detect(gray, frame):\n",
    "\n",
    "  faces = face_cascade.detectMultiScale(gray, 1.3, 5)\n",
    "\n",
    "  for (x,y,w,h) in faces:\n",
    "    cv2.rectangle(frame, (x,y), (x+w, y+h), (255,0,0), 2)\n",
    "\n",
    "    roi_gray = gray[y:y+h, x:x+w]\n",
    "    roi_color = frame[y:y+h, x:x+w]\n",
    "    eyes = eyes_cascade.detectMultiScale(roi_gray, 1.1, 3)\n",
    "    for (ex, ey, ew, eh) in eyes:\n",
    "      cv2.rectangle(roi_color, (ex,ey), (ex+ew, ey+eh), (0, 255, 0), 2)\n",
    "  return frame\n",
    "\n",
    "video_capture = cv2.VideoCapture(0)\n",
    "\n",
    "while True:\n",
    "  _, frame = video_capture.read()\n",
    "\n",
    "  gray = cv2.cvtColor(frame, cv2.COLOR_BGR2GRAY)\n",
    "  canvas = detect(gray, frame)\n",
    "  cv2.imshow(\"Video\", canvas)\n",
    "\n",
    "  if cv2.waitKey(1) & 0xFF == ord('q'):\n",
    "    break\n",
    "\n",
    "video_capture.release()\n",
    "cv2.destroyAllWindows()\n"
   ]
  },
  {
   "cell_type": "markdown",
   "metadata": {},
   "source": [
    "Observações: \n",
    "1) O HaarCascade só reconhece escala de cinza em suas aplicações, por isso a necessidade desta linha de código:\n",
    "                 gray = cv2.cvtColor(img, cv2.COLOR_BGR2GRAY)\n",
    "                \n",
    "2) Quando o programa é executado e mostrada a imagem com a face e olhos marcados por retângulos, é possível usar qualquer forma geométrica desejada, como .circle, por exemplo."
   ]
  }
 ],
 "metadata": {
  "kernelspec": {
   "display_name": "Python 3",
   "language": "python",
   "name": "python3"
  },
  "language_info": {
   "codemirror_mode": {
    "name": "ipython",
    "version": 3
   },
   "file_extension": ".py",
   "mimetype": "text/x-python",
   "name": "python",
   "nbconvert_exporter": "python",
   "pygments_lexer": "ipython3",
   "version": "3.6.8"
  }
 },
 "nbformat": 4,
 "nbformat_minor": 2
}
